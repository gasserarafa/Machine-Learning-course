{
 "cells": [
  {
   "cell_type": "markdown",
   "metadata": {},
   "source": [
    "# **Multiple Variable Linear Regression**"
   ]
  },
  {
   "cell_type": "code",
   "execution_count": 272,
   "metadata": {},
   "outputs": [],
   "source": [
    "import copy, math\n",
    "import numpy as np\n",
    "import matplotlib.pyplot as plt\n",
    "plt.style.use('./deeplearning.mplstyle')\n",
    "np.set_printoptions(precision=2)"
   ]
  },
  {
   "cell_type": "markdown",
   "metadata": {},
   "source": [
    "- Features and targets\n"
   ]
  },
  {
   "cell_type": "code",
   "execution_count": 273,
   "metadata": {},
   "outputs": [
    {
     "name": "stdout",
     "output_type": "stream",
     "text": [
      "x_train shape: (3, 4) , x_train data type: int32\n",
      "[[2104    5    1   45]\n",
      " [1416    3    2   40]\n",
      " [ 852    2    1   35]]\n",
      "y_train shape: (3,) , y_train data type: int32\n",
      "[460 232 178]\n"
     ]
    }
   ],
   "source": [
    "x_train=np.array([[2104,5,1,45],[1416,3,2,40],[852,2,1,35]])\n",
    "y_train=np.array([460,232,178])\n",
    "\n",
    "print(f\"x_train shape: {x_train.shape} , x_train data type: {x_train.dtype}\")\n",
    "print(x_train)\n",
    "print(f\"y_train shape: {y_train.shape} , y_train data type: {y_train.dtype}\")\n",
    "print(y_train)"
   ]
  },
  {
   "cell_type": "markdown",
   "metadata": {},
   "source": [
    "- initializing w,b with values near the optimum ones"
   ]
  },
  {
   "cell_type": "code",
   "execution_count": 274,
   "metadata": {},
   "outputs": [
    {
     "name": "stdout",
     "output_type": "stream",
     "text": [
      "w_initial shape: (4,), b_initial type: <class 'float'>\n"
     ]
    }
   ],
   "source": [
    "b_in = 785.1811367994083\n",
    "w_in = np.array([0.39133535, 18.75376741, -53.36032453, -26.42131618])\n",
    "print(f\"w_initial shape: {w_in.shape}, b_initial type: {type(b_in)}\")"
   ]
  },
  {
   "cell_type": "markdown",
   "metadata": {},
   "source": [
    "- Prediction with element by element\n"
   ]
  },
  {
   "cell_type": "code",
   "execution_count": 275,
   "metadata": {},
   "outputs": [
    {
     "name": "stdout",
     "output_type": "stream",
     "text": [
      "[2104    5    1   45]\n",
      "459.9999976194083\n"
     ]
    }
   ],
   "source": [
    "def single_element_prediction(x,w,b):\n",
    "    n=x.shape[0]\n",
    "    out=0\n",
    "    for i in range(n):\n",
    "        out=out+w[i]*x[i]\n",
    "    out=out+b\n",
    "    return out\n",
    "\n",
    "x=x_train[0,:]\n",
    "single_element_prediction_result=single_element_prediction(x,w_in,b_in)\n",
    "print(x)\n",
    "print(single_element_prediction_result)\n",
    "        "
   ]
  },
  {
   "cell_type": "markdown",
   "metadata": {},
   "source": [
    "- Single prediction with vectorization"
   ]
  },
  {
   "cell_type": "code",
   "execution_count": 276,
   "metadata": {},
   "outputs": [
    {
     "name": "stdout",
     "output_type": "stream",
     "text": [
      "[2104    5    1   45]\n",
      "459.99999761940825\n"
     ]
    }
   ],
   "source": [
    "def single_prediction_vector(x,w,b):\n",
    "    return np.dot(x,w)+b\n",
    "\n",
    "x=x_train[0,:]\n",
    "single_prediction_vector_result=single_prediction_vector(x,w_in,b_in)\n",
    "print(x)\n",
    "print(single_prediction_vector_result)"
   ]
  },
  {
   "cell_type": "markdown",
   "metadata": {},
   "source": [
    "- Compute cost function"
   ]
  },
  {
   "cell_type": "code",
   "execution_count": 277,
   "metadata": {},
   "outputs": [
    {
     "name": "stdout",
     "output_type": "stream",
     "text": [
      "1.5578904880036537e-12\n"
     ]
    }
   ],
   "source": [
    "def compute_cost(x,y,w,b):\n",
    "    n=y.shape[0]\n",
    "    cost=0\n",
    "    for i in range(n):\n",
    "        cost=cost+(np.dot(w,x[i])+b-y[i])**2\n",
    "    cost=cost/(2*n)\n",
    "    return cost\n",
    "\n",
    "cost=compute_cost(x_train,y_train,w_in,b_in)\n",
    "print(cost)"
   ]
  },
  {
   "cell_type": "markdown",
   "metadata": {},
   "source": [
    "- Compute Gradient"
   ]
  },
  {
   "cell_type": "code",
   "execution_count": 278,
   "metadata": {},
   "outputs": [
    {
     "name": "stdout",
     "output_type": "stream",
     "text": [
      "dj_db at initial w,b: -1.673925169143331e-06\n",
      "dj_dw at initial w,b: \n",
      " [-2.73e-03 -6.27e-06 -2.22e-06 -6.92e-05]\n"
     ]
    }
   ],
   "source": [
    "def compute_gradient(w,b,x,y):\n",
    "    num=w.shape[0]\n",
    "    m=y.shape[0]\n",
    "    dj_dw=np.zeros(num)\n",
    "    dj_db=0\n",
    "    for i in range(m):\n",
    "        f=np.dot(x[i],w)+b-y[i]\n",
    "        for j in range(num):\n",
    "            dj_dw[j]+=(f)*x[i][j]\n",
    "        dj_db+=(f)\n",
    "    dj_dw=dj_dw*(1/m)\n",
    "    dj_db=dj_db*(1/m)\n",
    "    return dj_dw,dj_db\n",
    "        \n",
    "        \n",
    "#test\n",
    "tmp_dj_dw, tmp_dj_db = compute_gradient( w_in, b_in,x_train, y_train)\n",
    "print(f'dj_db at initial w,b: {tmp_dj_db}')\n",
    "print(f'dj_dw at initial w,b: \\n {tmp_dj_dw}')"
   ]
  },
  {
   "cell_type": "markdown",
   "metadata": {},
   "source": [
    "- Computing gradient descent with multiple variables"
   ]
  },
  {
   "cell_type": "code",
   "execution_count": 279,
   "metadata": {},
   "outputs": [
    {
     "name": "stdout",
     "output_type": "stream",
     "text": [
      "Iteration    0: Cost  2529.46   \n",
      "Iteration  100: Cost   695.99   \n",
      "Iteration  200: Cost   694.92   \n",
      "Iteration  300: Cost   693.86   \n",
      "Iteration  400: Cost   692.81   \n",
      "Iteration  500: Cost   691.77   \n",
      "Iteration  600: Cost   690.73   \n",
      "Iteration  700: Cost   689.71   \n",
      "Iteration  800: Cost   688.70   \n",
      "Iteration  900: Cost   687.69   \n",
      "b,w found by gradient descent: -0.00,[ 0.2   0.   -0.01 -0.07] \n",
      "prediction: 426.19, target value: 460\n",
      "prediction: 286.17, target value: 232\n",
      "prediction: 171.47, target value: 178\n"
     ]
    }
   ],
   "source": [
    "def compute_descent(w_in,b_in,x,y,alpha,compute_cost,compute_gradient,num_iters):\n",
    "    \n",
    "    J_history=[]\n",
    "    w=copy.deepcopy(w_in)\n",
    "    b=b_in\n",
    "    for i in range(num_iters):\n",
    "        dj_dw , dj_db=compute_gradient(w,b,x,y)\n",
    "        w=w-(alpha*dj_dw)\n",
    "        b=b-alpha*dj_db\n",
    "        if i<100000:\n",
    "            J_history.append(compute_cost(x,y,w,b))\n",
    "        if i% math.ceil(num_iters / 10) == 0:\n",
    "            print(f\"Iteration {i:4d}: Cost {J_history[-1]:8.2f}   \")\n",
    "    return w,b,J_history\n",
    "\n",
    "\n",
    "#test\n",
    "\n",
    "initial_w = np.zeros_like(w_in)\n",
    "initial_b = 0.\n",
    "iter = 1000\n",
    "alpha = 5.0e-7\n",
    "w_final, b_final, J_hist = compute_descent(initial_w,initial_b,x_train, y_train,alpha,\n",
    "                                                    compute_cost, compute_gradient, \n",
    "                                                    iter)\n",
    "print(f\"b,w found by gradient descent: {b_final:0.2f},{w_final} \")\n",
    "num,_ = x_train.shape\n",
    "for i in range(num):\n",
    "    print(f\"prediction: {np.dot(x_train[i], w_final) + b_final:0.2f}, target value: {y_train[i]}\")\n",
    "            \n",
    "        \n",
    "    "
   ]
  }
 ],
 "metadata": {
  "kernelspec": {
   "display_name": "Python 3",
   "language": "python",
   "name": "python3"
  },
  "language_info": {
   "codemirror_mode": {
    "name": "ipython",
    "version": 3
   },
   "file_extension": ".py",
   "mimetype": "text/x-python",
   "name": "python",
   "nbconvert_exporter": "python",
   "pygments_lexer": "ipython3",
   "version": "3.12.5"
  }
 },
 "nbformat": 4,
 "nbformat_minor": 2
}
