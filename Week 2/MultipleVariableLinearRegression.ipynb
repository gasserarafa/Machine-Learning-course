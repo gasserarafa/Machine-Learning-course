{
 "cells": [
  {
   "cell_type": "markdown",
   "metadata": {},
   "source": [
    "# **Multiple Variable Linear Regression**"
   ]
  },
  {
   "cell_type": "code",
   "execution_count": 8,
   "metadata": {},
   "outputs": [],
   "source": [
    "import copy, math\n",
    "import numpy as np\n",
    "import matplotlib.pyplot as plt\n",
    "plt.style.use('./deeplearning.mplstyle')\n",
    "np.set_printoptions(precision=2)"
   ]
  },
  {
   "cell_type": "markdown",
   "metadata": {},
   "source": [
    "- Features and targets\n"
   ]
  },
  {
   "cell_type": "code",
   "execution_count": 9,
   "metadata": {},
   "outputs": [
    {
     "name": "stdout",
     "output_type": "stream",
     "text": [
      "x_train shape: (3, 4) , x_train data type: int32\n",
      "[[2104    5    1   45]\n",
      " [1416    3    2   40]\n",
      " [ 852    2    1   35]]\n",
      "y_train shape: (3,) , y_train data type: int32\n",
      "[460 232 178]\n"
     ]
    }
   ],
   "source": [
    "x_train=np.array([[2104,5,1,45],[1416,3,2,40],[852,2,1,35]])\n",
    "y_train=np.array([460,232,178])\n",
    "\n",
    "print(f\"x_train shape: {x_train.shape} , x_train data type: {x_train.dtype}\")\n",
    "print(x_train)\n",
    "print(f\"y_train shape: {y_train.shape} , y_train data type: {y_train.dtype}\")\n",
    "print(y_train)"
   ]
  },
  {
   "cell_type": "markdown",
   "metadata": {},
   "source": [
    "- initializing w,b with values near the optimum ones"
   ]
  },
  {
   "cell_type": "code",
   "execution_count": 10,
   "metadata": {},
   "outputs": [
    {
     "name": "stdout",
     "output_type": "stream",
     "text": [
      "w_initial shape: (4,), b_initial type: <class 'float'>\n"
     ]
    }
   ],
   "source": [
    "b_in = 785.1811367994083\n",
    "w_in = np.array([0.39133535, 18.75376741, -53.36032453, -26.42131618])\n",
    "print(f\"w_initial shape: {w_in.shape}, b_initial type: {type(b_in)}\")"
   ]
  },
  {
   "cell_type": "markdown",
   "metadata": {},
   "source": [
    "- Prediction with element by element\n"
   ]
  },
  {
   "cell_type": "code",
   "execution_count": 11,
   "metadata": {},
   "outputs": [
    {
     "name": "stdout",
     "output_type": "stream",
     "text": [
      "[2104    5    1   45]\n",
      "459.9999976194083\n"
     ]
    }
   ],
   "source": [
    "def single_element_prediction(x,w,b):\n",
    "    n=x.shape[0]\n",
    "    out=0\n",
    "    for i in range(n):\n",
    "        out=out+w[i]*x[i]\n",
    "    out=out+b\n",
    "    return out\n",
    "\n",
    "x=x_train[0,:]\n",
    "single_element_prediction_result=single_element_prediction(x,w_in,b_in)\n",
    "print(x)\n",
    "print(single_element_prediction_result)\n",
    "        "
   ]
  },
  {
   "cell_type": "markdown",
   "metadata": {},
   "source": [
    "- Single prediction with vectorization"
   ]
  },
  {
   "cell_type": "code",
   "execution_count": 12,
   "metadata": {},
   "outputs": [
    {
     "name": "stdout",
     "output_type": "stream",
     "text": [
      "[2104    5    1   45]\n",
      "459.99999761940825\n"
     ]
    }
   ],
   "source": [
    "def single_prediction_vector(x,w,b):\n",
    "    return np.dot(x,w)+b\n",
    "\n",
    "x=x_train[0,:]\n",
    "single_prediction_vector_result=single_prediction_vector(x,w_in,b_in)\n",
    "print(x)\n",
    "print(single_prediction_vector_result)"
   ]
  },
  {
   "cell_type": "markdown",
   "metadata": {},
   "source": [
    "- Compute cost function"
   ]
  },
  {
   "cell_type": "code",
   "execution_count": 14,
   "metadata": {},
   "outputs": [
    {
     "name": "stdout",
     "output_type": "stream",
     "text": [
      "1.5578904880036537e-12\n"
     ]
    }
   ],
   "source": [
    "def compute_cost(x,y,w,b):\n",
    "    n=y.shape[0]\n",
    "    cost=0\n",
    "    for i in range(n):\n",
    "        cost=cost+(np.dot(w,x[i])+b-y[i])**2\n",
    "    cost=cost/(2*n)\n",
    "    return cost\n",
    "\n",
    "cost=compute_cost(x_train,y_train,w_in,b_in)\n",
    "print(cost)"
   ]
  }
 ],
 "metadata": {
  "kernelspec": {
   "display_name": "Python 3",
   "language": "python",
   "name": "python3"
  },
  "language_info": {
   "codemirror_mode": {
    "name": "ipython",
    "version": 3
   },
   "file_extension": ".py",
   "mimetype": "text/x-python",
   "name": "python",
   "nbconvert_exporter": "python",
   "pygments_lexer": "ipython3",
   "version": "3.12.5"
  }
 },
 "nbformat": 4,
 "nbformat_minor": 2
}
